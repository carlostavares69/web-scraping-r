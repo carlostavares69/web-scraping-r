{
 "cells": [
  {
   "cell_type": "markdown",
   "metadata": {
    "id": "zduALOrLowr1"
   },
   "source": [
    "# Data Scraping\n",
    "**CRIMES VIOLENTOS LETAIS E INTENCIONAIS – CVLI (SSPDS/CE)**  \n",
    ">Autor:       Erivando Sena  \n",
    "E-mail:      erivandosena@gmail.com   \n",
    "Criado:        03/08/2019  \n",
    "Atualizado:  14/02/2023  \n",
    "\n",
    "[![Open In Colab](https://colab.research.google.com/assets/colab-badge.svg)](https://colab.research.google.com/github/erivandosena/web-scraping-r/blob/master/DataScraping-SSPDS-CE.ipynb)"
   ]
  },
  {
   "cell_type": "markdown",
   "metadata": {
    "id": "YoyKiBh-owr3"
   },
   "source": [
    "### Setup R and packages"
   ]
  },
  {
   "cell_type": "code",
   "execution_count": 1,
   "metadata": {
    "colab": {
     "base_uri": "https://localhost:8080/",
     "height": 156
    },
    "id": "-RQm7hBjowr5",
    "outputId": "2c652d26-38ef-4e78-9874-11ddda3bc3e1",
    "vscode": {
     "languageId": "r"
    }
   },
   "outputs": [
    {
     "name": "stdout",
     "output_type": "stream",
     "text": [
      "Other Environment.\n",
      "C:\\Users\\Erivando\\AppData\\Local\\R \n",
      "java version \"1.8.0_202\" \n",
      " Java(TM) SE Runtime Environment (build 1.8.0_202-b08) \n",
      " Java HotSpot(TM) 64-Bit Server VM (build 25.202-b08, mixed mode) \n"
     ]
    },
    {
     "data": {
      "text/html": [
       "<style>\n",
       ".list-inline {list-style: none; margin:0; padding: 0}\n",
       ".list-inline>li {display: inline-block}\n",
       ".list-inline>li:not(:last-child)::after {content: \"\\00b7\"; padding: 0 .5ex}\n",
       "</style>\n",
       "<ol class=list-inline><li>'C:/Users/Erivando/AppData/Local/R/win-library'</li><li>'C:/Users/Erivando/AppData/Local/R/win-library/4.3'</li><li>'C:/Program Files/R/R-4.3.0/library'</li></ol>\n"
      ],
      "text/latex": [
       "\\begin{enumerate*}\n",
       "\\item 'C:/Users/Erivando/AppData/Local/R/win-library'\n",
       "\\item 'C:/Users/Erivando/AppData/Local/R/win-library/4.3'\n",
       "\\item 'C:/Program Files/R/R-4.3.0/library'\n",
       "\\end{enumerate*}\n"
      ],
      "text/markdown": [
       "1. 'C:/Users/Erivando/AppData/Local/R/win-library'\n",
       "2. 'C:/Users/Erivando/AppData/Local/R/win-library/4.3'\n",
       "3. 'C:/Program Files/R/R-4.3.0/library'\n",
       "\n",
       "\n"
      ],
      "text/plain": [
       "[1] \"C:/Users/Erivando/AppData/Local/R/win-library\"    \n",
       "[2] \"C:/Users/Erivando/AppData/Local/R/win-library/4.3\"\n",
       "[3] \"C:/Program Files/R/R-4.3.0/library\"               "
      ]
     },
     "metadata": {},
     "output_type": "display_data"
    },
    {
     "data": {
      "text/html": [
       "<strong>R:</strong> 'C:\\\\PROGRA~1\\\\R\\\\R-43~1.0\\\\bin\\\\x64\\\\R.exe'"
      ],
      "text/latex": [
       "\\textbf{R:} 'C:\\textbackslash{}\\textbackslash{}PROGRA\\textasciitilde{}1\\textbackslash{}\\textbackslash{}R\\textbackslash{}\\textbackslash{}R-43\\textasciitilde{}1.0\\textbackslash{}\\textbackslash{}bin\\textbackslash{}\\textbackslash{}x64\\textbackslash{}\\textbackslash{}R.exe'"
      ],
      "text/markdown": [
       "**R:** 'C:\\\\PROGRA~1\\\\R\\\\R-43~1.0\\\\bin\\\\x64\\\\R.exe'"
      ],
      "text/plain": [
       "                                           R \n",
       "\"C:\\\\PROGRA~1\\\\R\\\\R-43~1.0\\\\bin\\\\x64\\\\R.exe\" "
      ]
     },
     "metadata": {},
     "output_type": "display_data"
    }
   ],
   "source": [
    "suppressPackageStartupMessages({\n",
    "  if (!requireNamespace(\"reticulate\", quietly = TRUE)) install.packages(\"reticulate\")\n",
    "  if (reticulate::py_module_available(\"google.colab\")) {\n",
    "    cat(\"Environment Google Colab.\\n\")\n",
    "\n",
    "    path_rlibrary <- file.path(.libPaths()[2])\n",
    "    .libPaths(c(\"/root/miniconda3/lib/R/library\", .libPaths()))\n",
    "  } else {\n",
    "    cat(\"Other Environment.\\n\")\n",
    "\n",
    "    # Add R in path of system\n",
    "    path_r <- normalizePath(file.path(R.home(\"bin\")))\n",
    "    current_path <- Sys.getenv(\"PATH\")\n",
    "    if (!grepl(paste0(\";\", path_r, \";\"), paste0(\";\", current_path, \";\"))) {\n",
    "        Sys.setenv(PATH = paste(path_r, current_path, sep = \";\"))\n",
    "    }\n",
    "\n",
    "    path_ruser <- file.path(Sys.getenv(\"LOCALAPPDATA\"), \"R\", fsep=\"\\\\\")\n",
    "    Sys.setenv(R_USER=path_ruser)\n",
    "\n",
    "    path_rlibrary <- file.path(Sys.getenv(\"LOCALAPPDATA\"), \"R\", \"win-library\", fsep=\"\\\\\")\n",
    "    dir.create(path_rlibrary, recursive = TRUE, showWarnings = FALSE)\n",
    "    .libPaths(c(normalizePath(path_rlibrary), .libPaths()))\n",
    "\n",
    "    # Save history\n",
    "    .First <- function() {\n",
    "      history_file <- file.path(Sys.getenv(\"R_USER\"), \".Rhistory\")\n",
    "      if (file.exists(history_file)) {\n",
    "        source(history_file)\n",
    "      }\n",
    "    }\n",
    "    .Last <- function() {\n",
    "      history_file <- file.path(Sys.getenv(\"R_USER\"), \".Rhistory\")\n",
    "      savehistory(history_file)\n",
    "    }\n",
    "\n",
    "    # Setup JAVA_HOME\n",
    "    Sys.setenv(JAVA_HOME = normalizePath(file.path(Sys.getenv(\"SystemDrive\"), \"Program Files\", \"Java\", \"jdk1.8.0_202\")))\n",
    "    java_path <- normalizePath(file.path(Sys.getenv(\"JAVA_HOME\"), \"bin\"))\n",
    "    Sys.setenv(PATH = paste(java_path, Sys.getenv(\"PATH\"), sep = \";\"))\n",
    "\n",
    "    cat(paste(path_ruser, \"\\n\"))\n",
    "  }\n",
    "\n",
    "  # Update packages R\n",
    "  if (length(old.packages()) > 0) {\n",
    "      update.packages(lib.loc = path_rlibrary, repos='http://cran.rstudio.com/', ask=FALSE, checkBuilt=FALSE)\n",
    "  }\n",
    "})\n",
    "\n",
    "# Check information\n",
    "cat(paste(system2(\"java\", args = c(\"-version\"), stdout = TRUE, stderr = TRUE), \"\\n\"))\n",
    ".libPaths()\n",
    "Sys.which(\"R\")"
   ]
  },
  {
   "cell_type": "code",
   "execution_count": 2,
   "metadata": {
    "id": "nmOn9bfZpnGP",
    "vscode": {
     "languageId": "r"
    }
   },
   "outputs": [],
   "source": [
    "# sessionInfo()"
   ]
  },
  {
   "cell_type": "code",
   "execution_count": 3,
   "metadata": {
    "colab": {
     "base_uri": "https://localhost:8080/"
    },
    "id": "xVG0xSQlIIlF",
    "outputId": "bd0f5489-e5aa-4f94-99a6-279a13d16843",
    "vscode": {
     "languageId": "r"
    }
   },
   "outputs": [
    {
     "name": "stdout",
     "output_type": "stream",
     "text": [
      "Other Environment.\n"
     ]
    },
    {
     "name": "stderr",
     "output_type": "stream",
     "text": [
      "Warning message:\n",
      "\"package 'remotes' was built under R version 4.3.2\"\n",
      "Warning message:\n",
      "\"package 'installr' was built under R version 4.3.2\"\n",
      "Warning message:\n",
      "\"package 'tidyverse' was built under R version 4.3.2\"\n",
      "Warning message:\n",
      "\"package 'tibble' was built under R version 4.3.2\"\n",
      "Warning message:\n",
      "\"package 'tidyr' was built under R version 4.3.2\"\n",
      "Warning message:\n",
      "\"package 'readr' was built under R version 4.3.2\"\n",
      "Warning message:\n",
      "\"package 'purrr' was built under R version 4.3.2\"\n",
      "Warning message:\n",
      "\"package 'dplyr' was built under R version 4.3.2\"\n",
      "Warning message:\n",
      "\"package 'stringr' was built under R version 4.3.2\"\n",
      "Warning message:\n",
      "\"package 'forcats' was built under R version 4.3.2\"\n",
      "Warning message:\n",
      "\"package 'lubridate' was built under R version 4.3.2\"\n",
      "Warning message:\n",
      "\"package 'rvest' was built under R version 4.3.2\"\n",
      "Warning message:\n",
      "\"package 'stringi' was built under R version 4.3.2\"\n",
      "Warning message:\n",
      "\"package 'readxl' was built under R version 4.3.2\"\n",
      "Warning message:\n",
      "\"package 'xml2' was built under R version 4.3.2\"\n",
      "Warning message:\n",
      "\"package 'leaflet' was built under R version 4.3.2\"\n",
      "Warning message:\n",
      "\"package 'htmlwidgets' was built under R version 4.3.2\"\n",
      "Warning message:\n",
      "\"package 'ggthemes' was built under R version 4.3.2\"\n",
      "Warning message:\n",
      "\"package 'forecast' was built under R version 4.3.2\"\n",
      "Warning message:\n",
      "\"package 'prophet' was built under R version 4.3.2\"\n",
      "Warning message:\n",
      "\"package 'Rcpp' was built under R version 4.3.2\"\n",
      "Warning message:\n",
      "\"package 'rlang' was built under R version 4.3.2\"\n",
      "Warning message:\n",
      "\"package 'mice' was built under R version 4.3.2\"\n",
      "Warning message:\n",
      "\"package 'magrittr' was built under R version 4.3.2\"\n",
      "Warning message:\n",
      "\"package 'kableExtra' was built under R version 4.3.2\"\n",
      "Warning message:\n",
      "\"package 'ggmap' was built under R version 4.3.2\"\n",
      "Warning message:\n",
      "\"package 'httr' was built under R version 4.3.2\"\n",
      "Warning message:\n",
      "\"package 'rJava' was built under R version 4.3.2\"\n",
      "Warning message:\n",
      "\"package 'pdftools' was built under R version 4.3.2\"\n"
     ]
    }
   ],
   "source": [
    "pacotes_comuns <- c(\"remotes\",\"installr\",\"tidyverse\",\"rvest\",\"stringi\",\"readxl\",\n",
    "                  \"lubridate\",\"xml2\", \"leaflet\",\"htmlwidgets\",\"ggthemes\",\"forecast\",\n",
    "                  \"prophet\", \"mice\",\"magrittr\",\"kableExtra\",\"ggmap\",\"stringr\",\n",
    "                  \"purrr\",\"dplyr\",\"readr\",\"httr\")\n",
    "pacotes_util <- c(\"rJava\")\n",
    "pacotes_extra <- c(\"pdftools\",\"ropensci/tabulizer\")\n",
    "pacotes_full <- c(pacotes_comuns, pacotes_util, pacotes_extra)\n",
    "pacotes_min <- c(pacotes_comuns, pacotes_extra)\n",
    "\n",
    "suppressPackageStartupMessages({\n",
    "  if (reticulate::py_module_available(\"google.colab\")) {\n",
    "    cat(\"Environment Google Colab.\\n\")\n",
    "\n",
    "    # Environment Conda\n",
    "    system(\"apt-get update && apt-get install -y libpoppler-cpp-dev r-base openjdk-11-jdk\")\n",
    "    Sys.setenv(LD_LIBRARY_PATH = \"/usr/lib/jvm/java-11-openjdk-amd64/lib\")\n",
    "    if (!file.exists(\"~/miniconda3\")) {\n",
    "      system(\"mkdir -p ~/miniconda3\")\n",
    "      system(\"wget https://repo.anaconda.com/miniconda/Miniconda3-latest-Linux-x86_64.sh -O ~/miniconda3/miniconda.sh\")\n",
    "      system(\"bash ~/miniconda3/miniconda.sh -b -u -p ~/miniconda3\")\n",
    "      system(\"sudo ~/miniconda3/bin/conda init bash\")\n",
    "      system(\"sudo ~/miniconda3/bin/conda config --add channels conda-forge\")\n",
    "      system(\"sudo ~/miniconda3/bin/conda config --set channel_priority strict\")\n",
    "    }\n",
    "    cat(system(\"sudo ~/miniconda3/bin/conda install --yes r-rjava\", intern = TRUE), sep = \"\\n\")\n",
    "\n",
    "    for (pkg in pacotes_min) {\n",
    "      pkg_extra <- sub(\"ropensci/\", \"\", pkg)\n",
    "      if (!(pkg_extra %in% rownames(installed.packages()))){\n",
    "        if (grepl(\"/\", pkg)) {\n",
    "          remotes::install_github(pkg, INSTALL_opts = \"--no-multiarch\")\n",
    "        } else {\n",
    "          install.packages(pkg)\n",
    "        }\n",
    "      }\n",
    "    }\n",
    "    for (pkg in pacotes_min) {\n",
    "      pkg_extra <- sub(\"ropensci/\", \"\", pkg)\n",
    "      if ((pkg_extra %in% rownames(installed.packages()))){\n",
    "        library(pkg_extra, character.only = TRUE)\n",
    "      }\n",
    "    }\n",
    "\n",
    "  } else {\n",
    "\n",
    "    cat(\"Other Environment.\\n\")\n",
    "    for (pkg in pacotes_full) {\n",
    "      pkg_extra <- sub(\"ropensci/\", \"\", pkg)\n",
    "      if (!(pkg_extra %in% rownames(installed.packages()))){\n",
    "        if (grepl(\"/\", pkg)) {\n",
    "          remotes::install_github(pkg, INSTALL_opts = \"--no-multiarch\")\n",
    "        } else {\n",
    "          install.packages(pkg)\n",
    "        }\n",
    "      }\n",
    "    }\n",
    "    for (pkg in pacotes_full) {\n",
    "      pkg_extra <- sub(\"ropensci/\", \"\", pkg)\n",
    "      if ((pkg_extra %in% rownames(installed.packages()))){\n",
    "        library(pkg_extra, character.only = TRUE)\n",
    "      }\n",
    "    }\n",
    "  }\n",
    "})"
   ]
  },
  {
   "cell_type": "markdown",
   "metadata": {
    "id": "WOJTVMchowr9"
   },
   "source": [
    "### Folders configuration"
   ]
  },
  {
   "cell_type": "code",
   "execution_count": 4,
   "metadata": {
    "id": "QMujLgZRowr9",
    "vscode": {
     "languageId": "r"
    }
   },
   "outputs": [],
   "source": [
    "dir_docs <- c(\"Documentos\")\n",
    "dir_dados <- c(\"Dados\")\n",
    "# Vetor contendo o camainho absoluto dos diretorios\n",
    "diretorios <- c(dir_dados, dir_docs)\n",
    "for (diretorio in diretorios) {\n",
    "  if(!dir.exists(diretorio)) {\n",
    "    dir.create(diretorio, recursive = TRUE)\n",
    "  }\n",
    "}"
   ]
  },
  {
   "cell_type": "markdown",
   "metadata": {
    "id": "-_PdkyHMowr-"
   },
   "source": [
    "### Functions"
   ]
  },
  {
   "cell_type": "code",
   "execution_count": 5,
   "metadata": {
    "id": "JB37p6xnowr-",
    "vscode": {
     "languageId": "r"
    }
   },
   "outputs": [],
   "source": [
    "# Retorna data frame com urls com anos a aprtir de 2018\n",
    "obtem_lista_anos <- function(url_base, anos) {\n",
    "  df_urls_anos <- data.frame(\n",
    "    href = paste0(url_base, \"/html/estatisticas-\", anos),\n",
    "    ano = anos\n",
    "  )\n",
    "  return(df_urls_anos)\n",
    "}\n",
    "\n",
    "# ### deprecated\n",
    "# Extrai informacoes de ano do código html\n",
    "extrai_lista_anos <- function(url_pagina) {\n",
    "  if (verifica_conectividade(url_pagina)) {\n",
    "    resposta <- httr::GET(url_pagina, timeout(240), add_headers(\"User-Agent\" = \"Mozilla/5.0\"))\n",
    "    pagina_html <- xml2::read_html(httr::content(resposta, as = \"text\"))\n",
    "\n",
    "    df_lista_urls <- pagina_html %>%\n",
    "      rvest::html_nodes('.grid a.box') %>%\n",
    "      purrr::map(xml2::xml_attrs) %>%\n",
    "      purrr::map_df(~as.list(.)) %>%\n",
    "      na.omit(.) %>%\n",
    "      .[-c(nrow(.)),]\n",
    "\n",
    "    df_lista_titulos <- pagina_html %>%\n",
    "      rvest::html_nodes('.grid p') %>%\n",
    "      rvest::html_text() %>%\n",
    "\n",
    "      gsub(\" \", \"\", .) %>%\n",
    "      substr(., nchar(.)-3, nchar(.)) %>%\n",
    "      .[-length(.)] %>% # remove ano 2013\n",
    "      as.data.frame(.) %>%\n",
    "      setNames(., \"ano\")\n",
    "\n",
    "    # Juntar os dataframes df_lista_urls e df_lista_titulos\n",
    "    df_urls_anos <- data.frame(df_lista_urls, df_lista_titulos)\n",
    "    excluir <- c(\"class\", \"target\")\n",
    "    df_urls_anos <- df_urls_anos[,!(names(df_urls_anos) %in% excluir)]\n",
    "    df_urls_anos[,1][df_urls_anos[, 1] == \"#\"] <- NA\n",
    "\n",
    "    return(df_urls_anos)\n",
    "  } else {\n",
    "    print(paste(url_pagina,\"inacessível.\"))\n",
    "  }\n",
    "}\n",
    "\n",
    "# Baixa lista de arquivos por ano\n",
    "obtem_arquivos <- function(anos) {\n",
    "  pastas <- list.dirs(dir_docs, full.names = TRUE, recursive = FALSE)\n",
    "  unlink(pastas, recursive = TRUE)\n",
    "  for(indice in 1:nrow(anos)) {\n",
    "    url_pagina <- anos[indice, 1]\n",
    "    tentativas_maximas <- 3\n",
    "    for (contador_tentativas in 1:tentativas_maximas) {\n",
    "      tryCatch({\n",
    "        if (verifica_conectividade(url_pagina)) {\n",
    "          if (length(url_pagina) > 0) {\n",
    "            print(paste(\"Lendo codigo HTML da pagina Web:\", anos[indice,1], \"-\", anos[indice,2], sep = \" \"))\n",
    "            df_listas <- extrai_lista_documentos(anos[indice,1])\n",
    "            Sys.sleep(1)\n",
    "            download_documentos(df_listas, anos[indice,2])\n",
    "            Sys.sleep(10)\n",
    "          } else {\n",
    "            print(\"Página retornando NA ou vazio. Iteração ignorada.\")\n",
    "          }\n",
    "          break\n",
    "        } else {\n",
    "          print(paste(url_pagina, \"inacessível.\"))\n",
    "          Sys.sleep(5)\n",
    "          break\n",
    "        }\n",
    "      }, error = function(e) {\n",
    "        print(paste(url_pagina, \"inacessível.\"))\n",
    "        Sys.sleep(5)\n",
    "      })\n",
    "    }\n",
    "  }\n",
    "}\n",
    "\n",
    "# Extrai informacoes de docs do codigo html\n",
    "extrai_lista_documentos <- function(url_pagina) {\n",
    "  pagina_html <- xml2::read_html(url_pagina)\n",
    "\n",
    "  df_lista_urls <- pagina_html %>%\n",
    "    rvest::html_nodes('.-Verde a.box') %>%\n",
    "    purrr::map(xml2::xml_attrs) %>%\n",
    "    purrr::map_df(~as.list(.))\n",
    "\n",
    "  df_lista_titulos <- pagina_html %>%\n",
    "    rvest::html_nodes('.-Verde h3') %>%\n",
    "    rvest::html_text() %>%\n",
    "    remove_acentos(.) %>%\n",
    "    gsub(\"–\", \" - \", .) %>%\n",
    "    gsub(\"/\", \" - \", .) %>%\n",
    "    gsub(\" \", \"\", .) %>%\n",
    "    as.data.frame(.) %>%\n",
    "    setNames(., \"mes\")\n",
    "\n",
    "  # Juntar os dataframes df_lista_urls e df_lista_titulos\n",
    "  df_urls_nomes <- data.frame(df_lista_urls, df_lista_titulos)\n",
    "  excluir <- c(\"class\", \"target\", \"rel\")\n",
    "  df_urls_nomes <- df_urls_nomes[,!(names(df_urls_nomes) %in% excluir)]\n",
    "  df_urls_nomes[,1][df_urls_nomes[, 1] == \"#\"] <- NA\n",
    "\n",
    "    return(df_urls_nomes)\n",
    "}\n",
    "\n",
    "# Baixa os arquivos da web para uma pasta local\n",
    "download_documentos <- function(d_frame_lista, anos) {\n",
    "  anos <- obtem_lista_anos(d_frame_lista[1], anos)\n",
    "  for (titulo in d_frame_lista$mes) {\n",
    "    df_url <- select(filter(d_frame_lista, d_frame_lista$mes == titulo), \"href\")\n",
    "    df_nome <- select(filter(d_frame_lista, d_frame_lista$mes == titulo), \"mes\")\n",
    "    for(ano in anos$ano) {\n",
    "      if(ano == substr(df_nome$mes, nchar(as.character(df_nome$mes))-3, nchar(as.character(df_nome$mes)))) {\n",
    "        diretorio <- file.path(\".\", dir_docs, ano)\n",
    "        if(!dir.exists(diretorio)) {\n",
    "          dir.create(diretorio, recursive = TRUE)\n",
    "        }\n",
    "        nome_arquivo_completo <- obtem_nome_arquivos(ano, df_nome$mes)\n",
    "        if(file.exists(nome_arquivo_completo)) {\n",
    "          print(paste0(\"Arquivo existente: \", df_nome$mes))\n",
    "        } else {\n",
    "          if (!is.na(df_url$href) && !is.null(df_url$href)) {\n",
    "            suppressWarnings({\n",
    "              download.file(df_url$href, destfile = nome_arquivo_completo, mode = \"wb\", quiet=FALSE)\n",
    "            })\n",
    "          } else {\n",
    "            print(paste(\"CDN ou URL do arquivo ausente: \", df_nome$mes, sep = \" \"))\n",
    "          }\n",
    "        }\n",
    "      }\n",
    "    }\n",
    "  }\n",
    "}\n",
    "\n",
    "# Formata nome dos arquivos\n",
    "obtem_nome_arquivos <- function(dir_superior, nome_relacao) {\n",
    "  nome_arquivo <- nome_relacao %>% gsub(\"[/. ,]\",\"_\", .)\n",
    "  path <- file.path(\".\", dir_docs, dir_superior, paste0(nome_arquivo, \".pdf\"))\n",
    "  return(path)\n",
    "}\n",
    "\n",
    "# Remover acentos\n",
    "remove_acentos <- function(obj_str) {\n",
    "  if(!is.character(obj_str)) {\n",
    "    obj_str <- as.character(obj_str)\n",
    "  }\n",
    "  obj_str <- stringi::stri_trans_general(str = obj_str, \"latin-ascii\")\n",
    "  return(obj_str)\n",
    "}\n",
    "\n",
    "# Aplicar transformações em data frame\n",
    "processar_dataframe <- function(df) {\n",
    "  df <- df %>% as.data.frame()\n",
    "  df <- df[,-1]\n",
    "  if (ncol(df) >= 7) {\n",
    "    df <- df %>%\n",
    "      select(1:7) %>%\n",
    "      setNames(cabecalho)\n",
    "      df <- df %>% mutate_all(~ifelse(. == \"\", NA, .))\n",
    "      df <- na.omit(df)\n",
    "      df <- df %>% mutate(across(everything(), as.character))\n",
    "    return(df)\n",
    "  }\n",
    "}\n",
    "\n",
    "# Obtem estatus da conexão remota\n",
    "verifica_conectividade <- function(url, timeout = 2) {\n",
    "  tryCatch({\n",
    "    response <- httr::GET(url, timeout(timeout), config = httr::config(followlocation = TRUE))\n",
    "    status_code <- httr::status_code(response)\n",
    "    return(status_code == 200 || status_code == 302)\n",
    "  }, error = function(e) {\n",
    "    return(FALSE)\n",
    "  })\n",
    "}"
   ]
  },
  {
   "cell_type": "markdown",
   "metadata": {
    "id": "AqTCWaZjowsA"
   },
   "source": [
    "### Collect of data"
   ]
  },
  {
   "cell_type": "code",
   "execution_count": 6,
   "metadata": {
    "colab": {
     "base_uri": "https://localhost:8080/"
    },
    "id": "910nFoyeowsA",
    "outputId": "b846796d-028c-48af-8fc6-70a9fccb8730",
    "vscode": {
     "languageId": "r"
    }
   },
   "outputs": [
    {
     "name": "stdout",
     "output_type": "stream",
     "text": [
      "[1] \"Lendo codigo HTML da pagina Web: https://www.sspds.ce.gov.br/html/estatisticas-2023 - 2023\"\n",
      "[1] \"Lendo codigo HTML da pagina Web: https://www.sspds.ce.gov.br/html/estatisticas-2024 - 2024\"\n",
      "[1] \"CDN ou URL do arquivo ausente:  MARCO-2024\"\n",
      "[1] \"CDN ou URL do arquivo ausente:  ABRIL-2024\"\n",
      "[1] \"CDN ou URL do arquivo ausente:  MAIO-2024\"\n",
      "[1] \"CDN ou URL do arquivo ausente:  JUNHO-2024\"\n",
      "[1] \"CDN ou URL do arquivo ausente:  JULHO-2024\"\n",
      "[1] \"CDN ou URL do arquivo ausente:  AGOSTO-2024\"\n",
      "[1] \"CDN ou URL do arquivo ausente:  SETEMBRO-2024\"\n",
      "[1] \"CDN ou URL do arquivo ausente:  OUTUBRO-2024\"\n",
      "[1] \"CDN ou URL do arquivo ausente:  NOVEMBRO-2024\"\n",
      "[1] \"CDN ou URL do arquivo ausente:  DEZEMBRO-2024\"\n"
     ]
    }
   ],
   "source": [
    "URL_site <- \"https://www.sspds.ce.gov.br\"\n",
    "anos <- c(\"2023\",\"2024\") # Years 2018-2024 only\n",
    "\n",
    "anos_filtro <- obtem_lista_anos(URL_site, anos)\n",
    "obtem_arquivos(anos_filtro)\n",
    "vetor_anos <- as.numeric(anos_filtro$ano)\n",
    "lista_df <- list()\n",
    "\n",
    "for (iano in seq_along(vetor_anos)) {\n",
    "  if (verifica_conectividade(URL_site)) {\n",
    "    data_frame_meses <- extrai_lista_documentos(anos_filtro[iano, 1])\n",
    "    num_docs <- sum(!is.na(data_frame_meses[, 1]))\n",
    "    for (ndoc in 1:num_docs) {\n",
    "      arquivo <- file.path(dir_docs, vetor_anos[iano], paste0(data_frame_meses[ndoc, 2], \".pdf\"))\n",
    "      paginas <- pdf_info(arquivo)$pages\n",
    "      for (npage in 1:paginas) {\n",
    "        tabela <- extract_tables(file = arquivo, pages = npage, method = \"stream\", guess = TRUE, output = \"data.frame\", encoding = \"UTF-8\")\n",
    "        lista_df[[length(lista_df) + 1]] <- tabela\n",
    "      }\n",
    "    }\n",
    "  } else {\n",
    "    print(paste(URL_site,\"inacessível.\"))\n",
    "  }\n",
    "}"
   ]
  },
  {
   "cell_type": "markdown",
   "metadata": {
    "id": "8orKFAbGowsB"
   },
   "source": [
    "### Processing of data"
   ]
  },
  {
   "cell_type": "code",
   "execution_count": 7,
   "metadata": {
    "colab": {
     "base_uri": "https://localhost:8080/",
     "height": 1000
    },
    "id": "4e028XV4owsB",
    "outputId": "c4621457-94b5-4ca6-f0d6-80e0202dcb9c",
    "vscode": {
     "languageId": "r"
    }
   },
   "outputs": [
    {
     "data": {
      "text/html": [],
      "text/latex": [],
      "text/markdown": [],
      "text/plain": [
       "logical(0)"
      ]
     },
     "metadata": {},
     "output_type": "display_data"
    },
    {
     "data": {
      "text/html": [
       "<table class=\"dataframe\">\n",
       "<caption>A data.frame: 6 × 8</caption>\n",
       "<thead>\n",
       "\t<tr><th></th><th scope=col>ID</th><th scope=col>AIS</th><th scope=col>MUNICIPIO_HOMICIDIO</th><th scope=col>NATUREZA_HOMICIDIO</th><th scope=col>ARMA_UTILIZADA</th><th scope=col>DATA_HOMICIDIO</th><th scope=col>SEXO</th><th scope=col>IDADE</th></tr>\n",
       "\t<tr><th></th><th scope=col>&lt;int&gt;</th><th scope=col>&lt;chr&gt;</th><th scope=col>&lt;chr&gt;</th><th scope=col>&lt;chr&gt;</th><th scope=col>&lt;chr&gt;</th><th scope=col>&lt;chr&gt;</th><th scope=col>&lt;chr&gt;</th><th scope=col>&lt;chr&gt;</th></tr>\n",
       "</thead>\n",
       "<tbody>\n",
       "\t<tr><th scope=row>1</th><td>1</td><td>AIS 23</td><td>Paracuru    </td><td>HOMICIDIO DOLOSO</td><td>Arma de fogo</td><td>01/01/2023</td><td>Feminino </td><td>24</td></tr>\n",
       "\t<tr><th scope=row>2</th><td>2</td><td>AIS 23</td><td>Paracuru    </td><td>HOMICIDIO DOLOSO</td><td>Arma de fogo</td><td>01/01/2023</td><td>Feminino </td><td>16</td></tr>\n",
       "\t<tr><th scope=row>3</th><td>3</td><td>AIS 07</td><td>Fortaleza   </td><td>HOMICIDIO DOLOSO</td><td>Arma de fogo</td><td>01/01/2023</td><td>Masculino</td><td>20</td></tr>\n",
       "\t<tr><th scope=row>4</th><td>4</td><td>AIS 19</td><td>Missão Velha</td><td>HOMICIDIO DOLOSO</td><td>Arma de fogo</td><td>01/01/2023</td><td>Masculino</td><td>42</td></tr>\n",
       "\t<tr><th scope=row>5</th><td>5</td><td>AIS 19</td><td>Crato       </td><td>HOMICIDIO DOLOSO</td><td>Arma de fogo</td><td>01/01/2023</td><td>Masculino</td><td>26</td></tr>\n",
       "\t<tr><th scope=row>6</th><td>6</td><td>AIS 18</td><td>Jaguaribe   </td><td>FEMINICÍDIO     </td><td>Arma branca </td><td>01/01/2023</td><td>Feminino </td><td>27</td></tr>\n",
       "</tbody>\n",
       "</table>\n"
      ],
      "text/latex": [
       "A data.frame: 6 × 8\n",
       "\\begin{tabular}{r|llllllll}\n",
       "  & ID & AIS & MUNICIPIO\\_HOMICIDIO & NATUREZA\\_HOMICIDIO & ARMA\\_UTILIZADA & DATA\\_HOMICIDIO & SEXO & IDADE\\\\\n",
       "  & <int> & <chr> & <chr> & <chr> & <chr> & <chr> & <chr> & <chr>\\\\\n",
       "\\hline\n",
       "\t1 & 1 & AIS 23 & Paracuru     & HOMICIDIO DOLOSO & Arma de fogo & 01/01/2023 & Feminino  & 24\\\\\n",
       "\t2 & 2 & AIS 23 & Paracuru     & HOMICIDIO DOLOSO & Arma de fogo & 01/01/2023 & Feminino  & 16\\\\\n",
       "\t3 & 3 & AIS 07 & Fortaleza    & HOMICIDIO DOLOSO & Arma de fogo & 01/01/2023 & Masculino & 20\\\\\n",
       "\t4 & 4 & AIS 19 & Missão Velha & HOMICIDIO DOLOSO & Arma de fogo & 01/01/2023 & Masculino & 42\\\\\n",
       "\t5 & 5 & AIS 19 & Crato        & HOMICIDIO DOLOSO & Arma de fogo & 01/01/2023 & Masculino & 26\\\\\n",
       "\t6 & 6 & AIS 18 & Jaguaribe    & FEMINICÍDIO      & Arma branca  & 01/01/2023 & Feminino  & 27\\\\\n",
       "\\end{tabular}\n"
      ],
      "text/markdown": [
       "\n",
       "A data.frame: 6 × 8\n",
       "\n",
       "| <!--/--> | ID &lt;int&gt; | AIS &lt;chr&gt; | MUNICIPIO_HOMICIDIO &lt;chr&gt; | NATUREZA_HOMICIDIO &lt;chr&gt; | ARMA_UTILIZADA &lt;chr&gt; | DATA_HOMICIDIO &lt;chr&gt; | SEXO &lt;chr&gt; | IDADE &lt;chr&gt; |\n",
       "|---|---|---|---|---|---|---|---|---|\n",
       "| 1 | 1 | AIS 23 | Paracuru     | HOMICIDIO DOLOSO | Arma de fogo | 01/01/2023 | Feminino  | 24 |\n",
       "| 2 | 2 | AIS 23 | Paracuru     | HOMICIDIO DOLOSO | Arma de fogo | 01/01/2023 | Feminino  | 16 |\n",
       "| 3 | 3 | AIS 07 | Fortaleza    | HOMICIDIO DOLOSO | Arma de fogo | 01/01/2023 | Masculino | 20 |\n",
       "| 4 | 4 | AIS 19 | Missão Velha | HOMICIDIO DOLOSO | Arma de fogo | 01/01/2023 | Masculino | 42 |\n",
       "| 5 | 5 | AIS 19 | Crato        | HOMICIDIO DOLOSO | Arma de fogo | 01/01/2023 | Masculino | 26 |\n",
       "| 6 | 6 | AIS 18 | Jaguaribe    | FEMINICÍDIO      | Arma branca  | 01/01/2023 | Feminino  | 27 |\n",
       "\n"
      ],
      "text/plain": [
       "  ID AIS    MUNICIPIO_HOMICIDIO NATUREZA_HOMICIDIO ARMA_UTILIZADA\n",
       "1 1  AIS 23 Paracuru            HOMICIDIO DOLOSO   Arma de fogo  \n",
       "2 2  AIS 23 Paracuru            HOMICIDIO DOLOSO   Arma de fogo  \n",
       "3 3  AIS 07 Fortaleza           HOMICIDIO DOLOSO   Arma de fogo  \n",
       "4 4  AIS 19 Missão Velha        HOMICIDIO DOLOSO   Arma de fogo  \n",
       "5 5  AIS 19 Crato               HOMICIDIO DOLOSO   Arma de fogo  \n",
       "6 6  AIS 18 Jaguaribe           FEMINICÍDIO        Arma branca   \n",
       "  DATA_HOMICIDIO SEXO      IDADE\n",
       "1 01/01/2023     Feminino  24   \n",
       "2 01/01/2023     Feminino  16   \n",
       "3 01/01/2023     Masculino 20   \n",
       "4 01/01/2023     Masculino 42   \n",
       "5 01/01/2023     Masculino 26   \n",
       "6 01/01/2023     Feminino  27   "
      ]
     },
     "metadata": {},
     "output_type": "display_data"
    }
   ],
   "source": [
    "# Clear data and merge data frame\n",
    "arquivos_csv <- list.files(dir_dados, pattern = \"\\\\.csv$\", full.names = TRUE)\n",
    "file.remove(arquivos_csv)\n",
    "\n",
    "df_final <- data.frame()\n",
    "cabecalho = c(\"AIS\",\"MUNICIPIO_HOMICIDIO\", \"NATUREZA_HOMICIDIO\", \"ARMA_UTILIZADA\", \"DATA_HOMICIDIO\", \"SEXO\", \"IDADE\")\n",
    "lista_df_processada <- lapply(lista_df, processar_dataframe)\n",
    "\n",
    "for (i in seq_along(lista_df_processada)) {\n",
    "  df <- lista_df_processada[[i]]\n",
    "  df_final <- bind_rows(df_final, df)\n",
    "  # write.csv(df, file = paste0(file.path(dir_dados, paste0(i,\"cvli.csv\"))), row.names = FALSE) # Enable export the csv of data frames unitary\n",
    "}\n",
    "\n",
    "if (\"AIS\" %in% colnames(df_final)) {\n",
    "  df_final <- df_final <- df_final %>% arrange(as.Date(DATA_HOMICIDIO, format=\"%d/%m/%Y\")) %>% mutate(ID = c(1:nrow(.))) %>% .[,c(8,1:ncol(.)-1)]\n",
    "\n",
    "  # Export dataset\n",
    "  write.csv(df_final, file = paste0(file.path(dir_dados, \"cvli.csv\")), row.names = FALSE)\n",
    "  head(df_final)\n",
    "} else {\n",
    "  print(\"Data frame irregular.\")\n",
    "}\n"
   ]
  },
  {
   "cell_type": "markdown",
   "metadata": {
    "id": "H0OJpInFowsC"
   },
   "source": [
    "### Analysis of dataset"
   ]
  },
  {
   "cell_type": "code",
   "execution_count": 8,
   "metadata": {
    "colab": {
     "base_uri": "https://localhost:8080/"
    },
    "id": "2s6vXPhgowsC",
    "outputId": "436c17b2-c854-4994-b98a-99c6afe37748",
    "vscode": {
     "languageId": "r"
    }
   },
   "outputs": [
    {
     "data": {
      "text/plain": [
       "       ID             AIS            MUNICIPIO_HOMICIDIO NATUREZA_HOMICIDIO\n",
       " Min.   :   1.0   Length:3299        Length:3299         Length:3299       \n",
       " 1st Qu.: 825.5   Class :character   Class :character    Class :character  \n",
       " Median :1650.0   Mode  :character   Mode  :character    Mode  :character  \n",
       " Mean   :1650.0                                                            \n",
       " 3rd Qu.:2474.5                                                            \n",
       " Max.   :3299.0                                                            \n",
       " ARMA_UTILIZADA     DATA_HOMICIDIO         SEXO              IDADE          \n",
       " Length:3299        Length:3299        Length:3299        Length:3299       \n",
       " Class :character   Class :character   Class :character   Class :character  \n",
       " Mode  :character   Mode  :character   Mode  :character   Mode  :character  \n",
       "                                                                            \n",
       "                                                                            \n",
       "                                                                            "
      ]
     },
     "metadata": {},
     "output_type": "display_data"
    }
   ],
   "source": [
    "# Import dataset\n",
    "path_file <- file.path(dir_dados, \"cvli.csv\")\n",
    "if (file.exists(path_file)) {\n",
    "  dados_cvli <- read_csv(file = path_file, show_col_types = FALSE)\n",
    "  summary(dados_cvli)\n",
    "} else {\n",
    "  print(\"CSV ausente.\")\n",
    "}"
   ]
  }
 ],
 "metadata": {
  "colab": {
   "provenance": []
  },
  "kernelspec": {
   "display_name": "R",
   "language": "R",
   "name": "ir"
  },
  "language_info": {
   "codemirror_mode": "r",
   "file_extension": ".r",
   "mimetype": "text/x-r-source",
   "name": "R",
   "pygments_lexer": "r",
   "version": "4.3.0"
  }
 },
 "nbformat": 4,
 "nbformat_minor": 4
}
