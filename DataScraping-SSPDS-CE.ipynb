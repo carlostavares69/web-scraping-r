{
 "cells": [
  {
   "cell_type": "markdown",
   "metadata": {},
   "source": [
    "# Data Scraping\n",
    "**CRIMES VIOLENTOS LETAIS E INTENCIONAIS – CVLI (SSPDS/CE)**  \n",
    ">Autor:       Erivando Sena  \n",
    "E-mail:      erivandosena@gmail.com   \n",
    "Criado:        03/08/2019  \n",
    "Atualizado:  14/02/2023  "
   ]
  },
  {
   "cell_type": "markdown",
   "metadata": {},
   "source": [
    "### Setup R and packages"
   ]
  },
  {
   "cell_type": "code",
   "execution_count": 1,
   "metadata": {
    "vscode": {
     "languageId": "r"
    }
   },
   "outputs": [
    {
     "name": "stdout",
     "output_type": "stream",
     "text": [
      "C:\\Users\\Erivando\\AppData\\Local\\R \n",
      "java version \"1.8.0_202\" \n",
      " Java(TM) SE Runtime Environment (build 1.8.0_202-b08) \n",
      " Java HotSpot(TM) 64-Bit Server VM (build 25.202-b08, mixed mode) \n"
     ]
    }
   ],
   "source": [
    "options(timeout=180)\n",
    "path_rlibrary <- file.path(Sys.getenv(\"LOCALAPPDATA\"), \"R\", \"win-library\", fsep=\"\\\\\")\n",
    "dir.create(path_rlibrary, recursive = TRUE, showWarnings = FALSE)\n",
    ".libPaths(path_rlibrary)\n",
    "\n",
    "# update packages R\n",
    "suppressPackageStartupMessages({\n",
    "    if (length(old.packages()) > 0) {\n",
    "        update.packages(lib.loc = path_rlibrary, repos='http://cran.rstudio.com/', ask=FALSE, checkBuilt=FALSE)\n",
    "    }\n",
    "    # Add R in path of system\n",
    "    path_r <- normalizePath(file.path(R.home(\"bin\")))\n",
    "    current_path <- Sys.getenv(\"PATH\")\n",
    "    if (!grepl(paste0(\";\", path_r, \";\"), paste0(\";\", current_path, \";\"))) {\n",
    "        Sys.setenv(PATH = paste(path_r, current_path, sep = \";\"))\n",
    "        #system(sprintf('setx PATH \"%s;%s\" -m', path_r, current_path), intern = TRUE)\n",
    "    }\n",
    "})\n",
    "\n",
    "path_ruser <- file.path(Sys.getenv(\"LOCALAPPDATA\"), \"R\", fsep=\"\\\\\")\n",
    "Sys.setenv(R_USER=path_ruser)\n",
    "\n",
    "# Save history\n",
    ".First <- function() {\n",
    "  history_file <- file.path(Sys.getenv(\"R_USER\"), \".Rhistory\")\n",
    "  if (file.exists(history_file)) {\n",
    "    source(history_file)\n",
    "  }\n",
    "}\n",
    ".Last <- function() {\n",
    "  history_file <- file.path(Sys.getenv(\"R_USER\"), \".Rhistory\")\n",
    "  savehistory(history_file)\n",
    "}\n",
    "\n",
    "# Setup JAVA_HOME\n",
    "Sys.setenv(JAVA_HOME = normalizePath(file.path(Sys.getenv(\"SystemDrive\"), \"Program Files\", \"Java\", \"jdk1.8.0_202\")))\n",
    "java_path <- normalizePath(file.path(Sys.getenv(\"JAVA_HOME\"), \"bin\"))\n",
    "Sys.setenv(PATH = paste(java_path, Sys.getenv(\"PATH\"), sep = \";\"))\n",
    "\n",
    "# check information\n",
    "cat(paste(path_ruser, \"\\n\"))\n",
    "java_version_output <- system2(\"java\", args = c(\"-version\"), stdout = FALSE, stderr = TRUE)\n",
    "cat(paste(java_version_output, \"\\n\"))"
   ]
  },
  {
   "cell_type": "code",
   "execution_count": 2,
   "metadata": {
    "vscode": {
     "languageId": "r"
    }
   },
   "outputs": [
    {
     "name": "stderr",
     "output_type": "stream",
     "text": [
      "Warning message:\n",
      "\"package 'remotes' was built under R version 4.3.2\"\n",
      "Warning message:\n",
      "\"package 'installr' was built under R version 4.3.2\"\n",
      "Warning message:\n",
      "\"package 'tidyverse' was built under R version 4.3.2\"\n",
      "Warning message:\n",
      "\"package 'ggplot2' was built under R version 4.3.2\"\n",
      "Warning message:\n",
      "\"package 'tibble' was built under R version 4.3.2\"\n",
      "Warning message:\n",
      "\"package 'tidyr' was built under R version 4.3.2\"\n",
      "Warning message:\n",
      "\"package 'readr' was built under R version 4.3.2\"\n",
      "Warning message:\n",
      "\"package 'purrr' was built under R version 4.3.2\"\n",
      "Warning message:\n",
      "\"package 'dplyr' was built under R version 4.3.2\"\n",
      "Warning message:\n",
      "\"package 'stringr' was built under R version 4.3.2\"\n",
      "Warning message:\n",
      "\"package 'forcats' was built under R version 4.3.2\"\n",
      "Warning message:\n",
      "\"package 'lubridate' was built under R version 4.3.2\"\n",
      "Warning message:\n",
      "\"package 'rvest' was built under R version 4.3.2\"\n",
      "Warning message:\n",
      "\"package 'stringi' was built under R version 4.3.2\"\n",
      "Warning message:\n",
      "\"package 'readxl' was built under R version 4.3.2\"\n",
      "Warning message:\n",
      "\"package 'xml2' was built under R version 4.3.2\"\n",
      "Warning message:\n",
      "\"package 'leaflet' was built under R version 4.3.2\"\n",
      "Warning message:\n",
      "\"package 'htmlwidgets' was built under R version 4.3.2\"\n",
      "Warning message:\n",
      "\"package 'ggthemes' was built under R version 4.3.2\"\n",
      "Warning message:\n",
      "\"package 'forecast' was built under R version 4.3.2\"\n",
      "Warning message:\n",
      "\"package 'prophet' was built under R version 4.3.2\"\n",
      "Warning message:\n",
      "\"package 'Rcpp' was built under R version 4.3.2\"\n",
      "Warning message:\n",
      "\"package 'rlang' was built under R version 4.3.2\"\n",
      "Warning message:\n",
      "\"package 'mice' was built under R version 4.3.2\"\n",
      "Warning message:\n",
      "\"package 'magrittr' was built under R version 4.3.2\"\n",
      "Warning message:\n",
      "\"package 'kableExtra' was built under R version 4.3.2\"\n",
      "Warning message:\n",
      "\"package 'ggmap' was built under R version 4.3.2\"\n",
      "Warning message:\n",
      "\"package 'pdftools' was built under R version 4.3.2\"\n",
      "Warning message:\n",
      "\"package 'rJava' was built under R version 4.3.2\"\n"
     ]
    }
   ],
   "source": [
    "pacotes_analise <- c(\"remotes\",\"installr\",\"tidyverse\",\"rvest\",\"stringi\",\"readxl\",\"lubridate\",\"xml2\", \"leaflet\",\n",
    "    \"htmlwidgets\",\"ggthemes\",\"forecast\",\"prophet\", \"mice\",\"magrittr\",\"kableExtra\",\"ggmap\",\"stringr\",\n",
    "    \"purrr\",\"dplyr\",\"readr\",\"pdftools\",\"rJava\",\"ropensci/tabulizer\")\n",
    "\n",
    "suppressPackageStartupMessages({\n",
    "    for (pkg in pacotes_analise) {\n",
    "        pkg_extra <- sub(\"ropensci/\", \"\", pkg)\n",
    "        if (!(pkg_extra %in% rownames(installed.packages()))){\n",
    "            if (grepl(\"/\", pkg)) {\n",
    "                remotes::install_github(pkg, INSTALL_opts = \"--no-multiarch\")\n",
    "            } else {\n",
    "                install.packages(pkg)\n",
    "            }\n",
    "        }\n",
    "    }\n",
    "    for (pkg in pacotes_analise) {\n",
    "        pkg_extra <- sub(\"ropensci/\", \"\", pkg)\n",
    "        if ((pkg_extra %in% rownames(installed.packages()))){\n",
    "            library(pkg_extra, character.only = TRUE)\n",
    "        }\n",
    "    }\n",
    "})"
   ]
  },
  {
   "cell_type": "markdown",
   "metadata": {},
   "source": [
    "### Folders configuration"
   ]
  },
  {
   "cell_type": "code",
   "execution_count": 3,
   "metadata": {
    "vscode": {
     "languageId": "r"
    }
   },
   "outputs": [],
   "source": [
    "dir_docs <- c(\"Documentos\")\n",
    "dir_dados <- c(\"Dados\")\n",
    "# Vetor contendo o camainho absoluto dos diretorios\n",
    "diretorios <- c(dir_dados, dir_docs)\n",
    "for (diretorio in diretorios) {\n",
    "  if(!dir.exists(diretorio)) {\n",
    "    dir.create(diretorio, recursive = TRUE)\n",
    "  }\n",
    "}"
   ]
  },
  {
   "cell_type": "markdown",
   "metadata": {},
   "source": [
    "### Functions"
   ]
  },
  {
   "cell_type": "code",
   "execution_count": 4,
   "metadata": {
    "vscode": {
     "languageId": "r"
    }
   },
   "outputs": [],
   "source": [
    "# Extrai informacoes de ano do código html\n",
    "extrai_lista_anos <- function(url_site) {\n",
    "  pagina_html <- xml2::read_html(url_site)\n",
    "\n",
    "  df_lista_urls <- pagina_html %>%\n",
    "    rvest::html_nodes('.grid a.box') %>%\n",
    "    purrr::map(xml2::xml_attrs) %>%\n",
    "    purrr::map_df(~as.list(.)) %>%\n",
    "    na.omit(.) %>%\n",
    "    .[-c(nrow(.)),]\n",
    "\n",
    "  df_lista_titulos <- pagina_html %>%\n",
    "    rvest::html_nodes('.grid p') %>%\n",
    "    rvest::html_text() %>%\n",
    "\n",
    "    gsub(\" \", \"\", .) %>%\n",
    "    substr(., nchar(.)-3, nchar(.)) %>%\n",
    "    .[-length(.)] %>% # remove ano 2013\n",
    "    as.data.frame(.) %>%\n",
    "    setNames(., \"ano\")\n",
    "\n",
    "  # Juntar os dataframes df_lista_urls e df_lista_titulos\n",
    "  df_urls_anos <- data.frame(df_lista_urls, df_lista_titulos)\n",
    "  excluir <- c(\"class\", \"target\")\n",
    "  df_urls_anos <- df_urls_anos[,!(names(df_urls_anos) %in% excluir)]\n",
    "  df_urls_anos[,1][df_urls_anos[, 1] == \"#\"] <- NA\n",
    "\n",
    "  return(df_urls_anos)\n",
    "}\n",
    "\n",
    "# Baixa lista de arquivos por ano\n",
    "obtem_arquivos <- function(url_site, anos) {\n",
    "  pastas <- list.dirs(dir_docs, full.names = TRUE, recursive = FALSE)\n",
    "  unlink(pastas, recursive = TRUE)\n",
    "\n",
    "  for(indice in 1:nrow(anos)) {\n",
    "    print(paste(\"Lendo codigo HTML da pagina Web:\", anos[indice,1], \"-\", anos[indice,2], sep = \" \"))\n",
    "    df_listas <- extrai_lista_documentos(anos[indice,1])\n",
    "    Sys.sleep(1)\n",
    "    download_documentos(df_listas)\n",
    "    Sys.sleep(10)\n",
    "  }\n",
    "}\n",
    "\n",
    "# Extrai informacoes de docs do codigo html\n",
    "extrai_lista_documentos <- function(url_pagina) {\n",
    "  pagina_html <- xml2::read_html(url_pagina)\n",
    "\n",
    "  df_lista_urls <- pagina_html %>%\n",
    "    rvest::html_nodes('.-Verde a.box') %>%\n",
    "    purrr::map(xml2::xml_attrs) %>%\n",
    "    purrr::map_df(~as.list(.))\n",
    "\n",
    "  df_lista_titulos <- pagina_html %>%\n",
    "    rvest::html_nodes('.-Verde h3') %>%\n",
    "    rvest::html_text() %>%\n",
    "    remove_acentos(.) %>%\n",
    "    gsub(\"–\", \" - \", .) %>%\n",
    "    gsub(\"/\", \" - \", .) %>%\n",
    "    gsub(\" \", \"\", .) %>%\n",
    "    as.data.frame(.) %>%\n",
    "    setNames(., \"mes\")\n",
    "\n",
    "  # Juntar os dataframes df_lista_urls e df_lista_titulos\n",
    "  df_urls_nomes <- data.frame(df_lista_urls, df_lista_titulos)\n",
    "  excluir <- c(\"class\", \"target\", \"rel\")\n",
    "  df_urls_nomes <- df_urls_nomes[,!(names(df_urls_nomes) %in% excluir)]\n",
    "  df_urls_nomes[,1][df_urls_nomes[, 1] == \"#\"] <- NA\n",
    "\n",
    "  return(df_urls_nomes)\n",
    "}\n",
    "\n",
    "# Baixa os arquivos da web para uma pasta local\n",
    "download_documentos <- function(d_frame_lista) {\n",
    "  anos <- extrai_lista_anos(URL_site)\n",
    "  for (titulo in d_frame_lista$mes) {\n",
    "    df_url <- select(filter(d_frame_lista, d_frame_lista$mes == titulo), \"href\")\n",
    "    df_nome <- select(filter(d_frame_lista, d_frame_lista$mes == titulo), \"mes\")\n",
    "    for(ano in anos$ano) {\n",
    "      if(ano == substr(df_nome$mes, nchar(as.character(df_nome$mes))-3, nchar(as.character(df_nome$mes)))) {\n",
    "        diretorio <- file.path(\".\", dir_docs, ano)\n",
    "        if(!dir.exists(diretorio)) {\n",
    "          dir.create(diretorio, recursive = TRUE)\n",
    "        }\n",
    "        nome_arquivo_completo <- obtem_nome_arquivos(ano, df_nome$mes)\n",
    "        if(file.exists(nome_arquivo_completo)) {\n",
    "          print(paste0(\"Arquivo baixado: \", df_nome$mes))\n",
    "        } else {\n",
    "          if (!is.na(df_url$href)) {\n",
    "            download.file(df_url$href, destfile = nome_arquivo_completo, mode = \"wb\", quiet=FALSE)\n",
    "          } else {\n",
    "            print(paste(\"Arquivo indisponivel: \", df_nome$mes, sep = \" \"))\n",
    "          }\n",
    "        }\n",
    "      }\n",
    "    }\n",
    "  }\n",
    "}\n",
    "\n",
    "# Formata nome dos arquivos\n",
    "obtem_nome_arquivos <- function(dir_superior, nome_relacao) {\n",
    "  nome_arquivo <- nome_relacao %>% gsub(\"[/. ,]\",\"_\", .)\n",
    "  path <- file.path(\".\", dir_docs, dir_superior, paste0(nome_arquivo, \".pdf\"))\n",
    "  return(path)\n",
    "}\n",
    "\n",
    "# Remover acentos\n",
    "remove_acentos <- function(obj_str) {\n",
    "  if(!is.character(obj_str)) {\n",
    "    obj_str <- as.character(obj_str)\n",
    "  }\n",
    "  obj_str <- stringi::stri_trans_general(str = obj_str, \"latin-ascii\")\n",
    "  return(obj_str)\n",
    "}\n",
    "\n",
    "# Aplicar transformações em data frame\n",
    "processar_dataframe <- function(df) {\n",
    "  df <- df %>% as.data.frame()\n",
    "  df <- df[,-1]\n",
    "  if (ncol(df) >= 7) {\n",
    "    df <- df %>%\n",
    "      select(1:7) %>%\n",
    "      setNames(cabecalho)\n",
    "      df <- df %>% mutate_all(~ifelse(. == \"\", NA, .))\n",
    "      df <- na.omit(df)\n",
    "      df <- df %>% mutate(across(everything(), as.character))\n",
    "    return(df)\n",
    "  }\n",
    "}"
   ]
  },
  {
   "cell_type": "markdown",
   "metadata": {},
   "source": [
    "### Collect of data"
   ]
  },
  {
   "cell_type": "code",
   "execution_count": 5,
   "metadata": {
    "vscode": {
     "languageId": "r"
    }
   },
   "outputs": [
    {
     "name": "stdout",
     "output_type": "stream",
     "text": [
      "[1] \"Lendo codigo HTML da pagina Web: https://www.sspds.ce.gov.br/estatisticas-2023 - 2023\"\n"
     ]
    }
   ],
   "source": [
    "URL_site <- \"https://www.sspds.ce.gov.br/estatisticas-2-2-2-2-2-2/\"\n",
    "anos <- extrai_lista_anos(URL_site)\n",
    "\n",
    "anos_filtro <- anos[anos$ano %in% c(\"2023\",\"2024\"), ] # Year 2023 only, keep c(\"2023\")\n",
    "# anos_filtro <- anos # Enabled all years\n",
    "\n",
    "obtem_arquivos(URL_site, anos_filtro)\n",
    "vetor_anos <- as.numeric(anos_filtro$ano)\n",
    "lista_df <- list()\n",
    "\n",
    "for (iano in seq_along(vetor_anos)) {\n",
    "  data_frame_meses <- extrai_lista_documentos(anos_filtro[iano, 1])\n",
    "  num_docs <- nrow(data_frame_meses)\n",
    "  for (ndoc in 1:num_docs) {\n",
    "    arquivo <- file.path(dir_docs, vetor_anos[iano], paste0(data_frame_meses[ndoc, 2], \".pdf\"))\n",
    "    paginas <- pdf_info(arquivo)$pages\n",
    "    for (npage in 1:paginas) {\n",
    "      tabela <- extract_tables(file = arquivo, pages = npage, method = \"stream\", guess = TRUE, output = \"data.frame\", encoding = \"UTF-8\")\n",
    "      lista_df[[length(lista_df) + 1]] <- tabela\n",
    "    }\n",
    "  }\n",
    "}"
   ]
  },
  {
   "cell_type": "markdown",
   "metadata": {},
   "source": [
    "### Processing of data"
   ]
  },
  {
   "cell_type": "code",
   "execution_count": 6,
   "metadata": {
    "vscode": {
     "languageId": "r"
    }
   },
   "outputs": [
    {
     "data": {
      "text/html": [
       "TRUE"
      ],
      "text/latex": [
       "TRUE"
      ],
      "text/markdown": [
       "TRUE"
      ],
      "text/plain": [
       "[1] TRUE"
      ]
     },
     "metadata": {},
     "output_type": "display_data"
    }
   ],
   "source": [
    "# Clear data and merge data frame\n",
    "arquivos_csv <- list.files(dir_dados, pattern = \"\\\\.csv$\", full.names = TRUE)\n",
    "file.remove(arquivos_csv)\n",
    "\n",
    "df_final <- data.frame()\n",
    "cabecalho = c(\"AIS\",\"MUNICIPIO_HOMICIDIO\", \"NATUREZA_HOMICIDIO\", \"ARMA_UTILIZADA\", \"DATA_HOMICIDIO\", \"SEXO\", \"IDADE\")\n",
    "lista_df_processada <- lapply(lista_df, processar_dataframe)\n",
    "\n",
    "for (i in seq_along(lista_df_processada)) {\n",
    "  df <- lista_df_processada[[i]]\n",
    "  df_final <- bind_rows(df_final, df)\n",
    "  # write.csv(df, file = paste0(file.path(dir_dados, paste0(i,\"cvli.csv\"))), row.names = FALSE) # Enable export the csv of data frames unitary\n",
    "}\n",
    "\n",
    "df_final <- df_final %>% arrange(as.Date(DATA_HOMICIDIO, format=\"%d/%m/%Y\")) %>% mutate(ID = c(1:nrow(.))) #%>% .[,c(8,1:ncol(.))]\n",
    "df_final <- df_final %>% .[,c(8,1:ncol(.)-1)]\n",
    "\n",
    "# Export dataset\n",
    "write.csv(df_final, file = paste0(file.path(dir_dados, \"cvli.csv\")), row.names = FALSE)"
   ]
  },
  {
   "cell_type": "markdown",
   "metadata": {},
   "source": [
    "### Analysis of dataset"
   ]
  },
  {
   "cell_type": "code",
   "execution_count": 7,
   "metadata": {
    "vscode": {
     "languageId": "r"
    }
   },
   "outputs": [
    {
     "name": "stdout",
     "output_type": "stream",
     "text": [
      "\u001b[90m# A tibble: 2,845 × 8\u001b[39m\n",
      "      ID AIS    MUNICIPIO_HOMICIDIO NATUREZA_HOMICIDIO ARMA_UTILIZADA\n",
      "   \u001b[3m\u001b[90m<dbl>\u001b[39m\u001b[23m \u001b[3m\u001b[90m<chr>\u001b[39m\u001b[23m  \u001b[3m\u001b[90m<chr>\u001b[39m\u001b[23m               \u001b[3m\u001b[90m<chr>\u001b[39m\u001b[23m              \u001b[3m\u001b[90m<chr>\u001b[39m\u001b[23m         \n",
      "\u001b[90m 1\u001b[39m     1 AIS 23 Paracuru            HOMICIDIO DOLOSO   Arma de fogo  \n",
      "\u001b[90m 2\u001b[39m     2 AIS 23 Paracuru            HOMICIDIO DOLOSO   Arma de fogo  \n",
      "\u001b[90m 3\u001b[39m     3 AIS 07 Fortaleza           HOMICIDIO DOLOSO   Arma de fogo  \n",
      "\u001b[90m 4\u001b[39m     4 AIS 19 Missão Velha        HOMICIDIO DOLOSO   Arma de fogo  \n",
      "\u001b[90m 5\u001b[39m     5 AIS 19 Crato               HOMICIDIO DOLOSO   Arma de fogo  \n",
      "\u001b[90m 6\u001b[39m     6 AIS 18 Jaguaribe           FEMINICÍDIO        Arma branca   \n",
      "\u001b[90m 7\u001b[39m     7 AIS 25 Pacajus             HOMICIDIO DOLOSO   Arma branca   \n",
      "\u001b[90m 8\u001b[39m     8 AIS 13 Aquiraz             HOMICIDIO DOLOSO   Arma de fogo  \n",
      "\u001b[90m 9\u001b[39m     9 AIS 11 Caucaia             HOMICIDIO DOLOSO   Arma de fogo  \n",
      "\u001b[90m10\u001b[39m    10 AIS 06 Fortaleza           HOMICIDIO DOLOSO   Arma de fogo  \n",
      "\u001b[90m# ℹ 2,835 more rows\u001b[39m\n",
      "\u001b[90m# ℹ 3 more variables: DATA_HOMICIDIO <chr>, SEXO <chr>, IDADE <chr>\u001b[39m\n"
     ]
    }
   ],
   "source": [
    "# Import dataset\n",
    "dados_cvli <- read_csv(file = paste0(file.path(dir_dados, \"cvli.csv\")), show_col_types = FALSE)\n",
    "print(dados_cvli)"
   ]
  }
 ],
 "metadata": {
  "kernelspec": {
   "display_name": "R",
   "language": "R",
   "name": "ir"
  },
  "language_info": {
   "codemirror_mode": "r",
   "file_extension": ".r",
   "mimetype": "text/x-r-source",
   "name": "R",
   "pygments_lexer": "r",
   "version": "4.3.0"
  }
 },
 "nbformat": 4,
 "nbformat_minor": 4
}
